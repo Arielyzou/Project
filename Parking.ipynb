import numpy as np
import pandas as pd

df = pd.read_csv('311_Service_Requests_2020.csv', low_memory=False)
# illegal parking incidents fraction in total
df_ill = df[df['Complaint Type']== 'Illegal Parking']
total_perc = df_ill['Complaint Type'].count()/(df['Complaint Type'].count())

# illegal parking incidents fraction in sub-area --> zip=10025
df2 = df[df['Incident Zip'] == 10025]
df2_ill = df2[df2['Complaint Type']== 'Illegal Parking']
sub_perc = df2_ill['Complaint Type'].count()/(df2['Complaint Type'].count())

# higher_parking_proportion
higher_parking_proportion = bool(sub_perc > total_perc)